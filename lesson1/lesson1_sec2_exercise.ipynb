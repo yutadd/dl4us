{
 "cells": [
  {
   "cell_type": "markdown",
   "metadata": {},
   "source": [
    "# Lesson1 手書き文字認識をしよう（ニューラルネットワーク入門）"
   ]
  },
  {
   "cell_type": "markdown",
   "metadata": {},
   "source": [
    "## 目次\n",
    "\n",
    "- 1.6の解答\n",
    "- Section2 実装①\n",
    "  - 2.1 MNISTによるMLPの復習"
   ]
  },
  {
   "cell_type": "markdown",
   "metadata": {},
   "source": [
    "## 1.6の解答\n",
    "\n",
    "1. 学習データ以外の未知のデータに対するモデルの予測性能を何というか  \n",
    "  ①神通力　②バイアス　**③汎化性能**　④共起性\n",
    "2. データセット全体を一度に全て使用して学習する方法を何というか  \n",
    "  ①転移学習　②ワンショット学習　③過学習　**④バッチ学習**　\n",
    "3. 名義尺度のデータをバイナリベクトルによって表現したものを何というか  \n",
    "  ①分散表現　**②one-hot表現**　③ビット表現　④ユニタリ表現\n",
    "4. モデルの学習に当たって最小化するものは何か  \n",
    "  ①精度　**②損失関数**　③スコア　④F値"
   ]
  },
  {
   "cell_type": "markdown",
   "metadata": {},
   "source": [
    "## Section2 実装①"
   ]
  },
  {
   "cell_type": "markdown",
   "metadata": {},
   "source": [
    "### 2.1 MNISTによるMLPの復習"
   ]
  },
  {
   "cell_type": "code",
   "execution_count": 1,
   "metadata": {},
   "outputs": [],
   "source": [
    "# データのロード\n",
    "from tensorflow.keras.datasets import mnist\n",
    "\n",
    "(x_train, y_train), (x_test, y_test) = mnist.load_data()"
   ]
  },
  {
   "cell_type": "code",
   "execution_count": 2,
   "metadata": {},
   "outputs": [],
   "source": [
    "# データの整形\n",
    "from tensorflow.keras.utils import to_categorical\n",
    "\n",
    "x_train = x_train.reshape(-1, 784)\n",
    "x_test = x_test.reshape(-1, 784)\n",
    "\n",
    "y_train = to_categorical(y_train)\n",
    "y_test = to_categorical(y_test)"
   ]
  },
  {
   "cell_type": "code",
   "execution_count": 3,
   "metadata": {},
   "outputs": [],
   "source": [
    "# モデル構築\n",
    "from tensorflow.keras.models import Sequential\n",
    "from tensorflow.keras.layers import Dense, Activation\n",
    "\n",
    "model = Sequential()\n",
    "\n",
    "model.add(Dense(units=256, input_shape=(784,)))\n",
    "model.add(Activation('relu'))\n",
    "model.add(Dense(units=100))\n",
    "model.add(Activation('relu'))\n",
    "model.add(Dense(units=10))\n",
    "model.add(Activation('softmax'))\n",
    "\n",
    "model.compile(loss='categorical_crossentropy', optimizer='sgd', metrics=['accuracy'])"
   ]
  },
  {
   "cell_type": "code",
   "execution_count": 4,
   "metadata": {},
   "outputs": [
    {
     "name": "stdout",
     "output_type": "stream",
     "text": [
      "Epoch 1/10\n",
      "60/60 [==============================] - 29s 37ms/step - loss: 3894.4536 - accuracy: 0.1069 - val_loss: 2.3031 - val_accuracy: 0.1029\n",
      "Epoch 2/10\n",
      "60/60 [==============================] - 1s 13ms/step - loss: 2.3149 - accuracy: 0.1069 - val_loss: 2.3061 - val_accuracy: 0.1135\n",
      "Epoch 3/10\n",
      "60/60 [==============================] - 0s 4ms/step - loss: 2.3031 - accuracy: 0.1125 - val_loss: 2.3029 - val_accuracy: 0.1135\n",
      "Epoch 4/10\n",
      "60/60 [==============================] - 0s 7ms/step - loss: 2.3019 - accuracy: 0.1125 - val_loss: 2.3027 - val_accuracy: 0.1135\n",
      "Epoch 5/10\n",
      "60/60 [==============================] - 0s 4ms/step - loss: 2.3017 - accuracy: 0.1125 - val_loss: 2.3027 - val_accuracy: 0.1135\n",
      "Epoch 6/10\n",
      "60/60 [==============================] - 0s 3ms/step - loss: 2.3016 - accuracy: 0.1125 - val_loss: 2.3026 - val_accuracy: 0.1135\n",
      "Epoch 7/10\n",
      "60/60 [==============================] - 0s 5ms/step - loss: 2.3015 - accuracy: 0.1125 - val_loss: 2.3025 - val_accuracy: 0.1135\n",
      "Epoch 8/10\n",
      "60/60 [==============================] - 0s 4ms/step - loss: 2.3014 - accuracy: 0.1125 - val_loss: 2.3024 - val_accuracy: 0.1135\n",
      "Epoch 9/10\n",
      "60/60 [==============================] - 0s 5ms/step - loss: 2.3014 - accuracy: 0.1125 - val_loss: 2.3024 - val_accuracy: 0.1135\n",
      "Epoch 10/10\n",
      "60/60 [==============================] - 0s 3ms/step - loss: 2.3013 - accuracy: 0.1125 - val_loss: 2.3023 - val_accuracy: 0.1135\n"
     ]
    },
    {
     "data": {
      "text/plain": [
       "<tensorflow.python.keras.callbacks.History at 0x170b8573fd0>"
      ]
     },
     "execution_count": 4,
     "metadata": {},
     "output_type": "execute_result"
    }
   ],
   "source": [
    "# 学習\n",
    "model.fit(x_train, y_train, batch_size=1000, epochs=10, verbose=1, validation_data=(x_test, y_test))"
   ]
  },
  {
   "cell_type": "code",
   "execution_count": 5,
   "metadata": {},
   "outputs": [
    {
     "name": "stdout",
     "output_type": "stream",
     "text": [
      "Test loss: 2.30230712890625\n",
      "Test accuracy: 0.11349999904632568\n"
     ]
    }
   ],
   "source": [
    "# 性能評価\n",
    "score = model.evaluate(x_test, y_test, verbose=0)\n",
    "print('Test loss:', score[0])\n",
    "print('Test accuracy:', score[1])"
   ]
  },
  {
   "cell_type": "code",
   "execution_count": 6,
   "metadata": {},
   "outputs": [
    {
     "data": {
      "image/svg+xml": [
       "<svg height=\"553pt\" viewBox=\"0.00 0.00 376.00 553.00\" width=\"376pt\" xmlns=\"http://www.w3.org/2000/svg\" xmlns:xlink=\"http://www.w3.org/1999/xlink\">\n",
       "<g class=\"graph\" id=\"graph0\" transform=\"scale(1 1) rotate(0) translate(4 549)\">\n",
       "<title>G</title>\n",
       "<polygon fill=\"white\" points=\"-4,4 -4,-549 372,-549 372,4 -4,4\" stroke=\"transparent\"/>\n",
       "<!-- dpi -->\n",
       "<g class=\"node\" id=\"node1\">\n",
       "<title>dpi</title>\n",
       "<ellipse cx=\"27\" cy=\"-521.5\" fill=\"none\" rx=\"27\" ry=\"18\" stroke=\"black\"/>\n",
       "<text font-family=\"Times New Roman,serif\" font-size=\"14.00\" text-anchor=\"middle\" x=\"27\" y=\"-517.8\">dpi</text>\n",
       "</g>\n",
       "<!-- 1583481747440 -->\n",
       "<g class=\"node\" id=\"node2\">\n",
       "<title>1583481747440</title>\n",
       "<polygon fill=\"none\" points=\"72,-498.5 72,-544.5 368,-544.5 368,-498.5 72,-498.5\" stroke=\"black\"/>\n",
       "<text font-family=\"Times New Roman,serif\" font-size=\"14.00\" text-anchor=\"middle\" x=\"146.5\" y=\"-517.8\">dense_input: InputLayer</text>\n",
       "<polyline fill=\"none\" points=\"221,-498.5 221,-544.5 \" stroke=\"black\"/>\n",
       "<text font-family=\"Times New Roman,serif\" font-size=\"14.00\" text-anchor=\"middle\" x=\"248.5\" y=\"-529.3\">input:</text>\n",
       "<polyline fill=\"none\" points=\"221,-521.5 276,-521.5 \" stroke=\"black\"/>\n",
       "<text font-family=\"Times New Roman,serif\" font-size=\"14.00\" text-anchor=\"middle\" x=\"248.5\" y=\"-506.3\">output:</text>\n",
       "<polyline fill=\"none\" points=\"276,-498.5 276,-544.5 \" stroke=\"black\"/>\n",
       "<text font-family=\"Times New Roman,serif\" font-size=\"14.00\" text-anchor=\"middle\" x=\"322\" y=\"-529.3\">[(None, 784)]</text>\n",
       "<polyline fill=\"none\" points=\"276,-521.5 368,-521.5 \" stroke=\"black\"/>\n",
       "<text font-family=\"Times New Roman,serif\" font-size=\"14.00\" text-anchor=\"middle\" x=\"322\" y=\"-506.3\">[(None, 784)]</text>\n",
       "</g>\n",
       "<!-- 1583481618616 -->\n",
       "<g class=\"node\" id=\"node3\">\n",
       "<title>1583481618616</title>\n",
       "<polygon fill=\"none\" points=\"106.5,-415.5 106.5,-461.5 333.5,-461.5 333.5,-415.5 106.5,-415.5\" stroke=\"black\"/>\n",
       "<text font-family=\"Times New Roman,serif\" font-size=\"14.00\" text-anchor=\"middle\" x=\"151\" y=\"-434.8\">dense: Dense</text>\n",
       "<polyline fill=\"none\" points=\"195.5,-415.5 195.5,-461.5 \" stroke=\"black\"/>\n",
       "<text font-family=\"Times New Roman,serif\" font-size=\"14.00\" text-anchor=\"middle\" x=\"223\" y=\"-446.3\">input:</text>\n",
       "<polyline fill=\"none\" points=\"195.5,-438.5 250.5,-438.5 \" stroke=\"black\"/>\n",
       "<text font-family=\"Times New Roman,serif\" font-size=\"14.00\" text-anchor=\"middle\" x=\"223\" y=\"-423.3\">output:</text>\n",
       "<polyline fill=\"none\" points=\"250.5,-415.5 250.5,-461.5 \" stroke=\"black\"/>\n",
       "<text font-family=\"Times New Roman,serif\" font-size=\"14.00\" text-anchor=\"middle\" x=\"292\" y=\"-446.3\">(None, 784)</text>\n",
       "<polyline fill=\"none\" points=\"250.5,-438.5 333.5,-438.5 \" stroke=\"black\"/>\n",
       "<text font-family=\"Times New Roman,serif\" font-size=\"14.00\" text-anchor=\"middle\" x=\"292\" y=\"-423.3\">(None, 256)</text>\n",
       "</g>\n",
       "<!-- 1583481747440&#45;&gt;1583481618616 -->\n",
       "<g class=\"edge\" id=\"edge1\">\n",
       "<title>1583481747440-&gt;1583481618616</title>\n",
       "<path d=\"M220,-498.37C220,-490.15 220,-480.66 220,-471.73\" fill=\"none\" stroke=\"black\"/>\n",
       "<polygon fill=\"black\" points=\"223.5,-471.61 220,-461.61 216.5,-471.61 223.5,-471.61\" stroke=\"black\"/>\n",
       "</g>\n",
       "<!-- 1583481746096 -->\n",
       "<g class=\"node\" id=\"node4\">\n",
       "<title>1583481746096</title>\n",
       "<polygon fill=\"none\" points=\"84,-332.5 84,-378.5 356,-378.5 356,-332.5 84,-332.5\" stroke=\"black\"/>\n",
       "<text font-family=\"Times New Roman,serif\" font-size=\"14.00\" text-anchor=\"middle\" x=\"151\" y=\"-351.8\">activation: Activation</text>\n",
       "<polyline fill=\"none\" points=\"218,-332.5 218,-378.5 \" stroke=\"black\"/>\n",
       "<text font-family=\"Times New Roman,serif\" font-size=\"14.00\" text-anchor=\"middle\" x=\"245.5\" y=\"-363.3\">input:</text>\n",
       "<polyline fill=\"none\" points=\"218,-355.5 273,-355.5 \" stroke=\"black\"/>\n",
       "<text font-family=\"Times New Roman,serif\" font-size=\"14.00\" text-anchor=\"middle\" x=\"245.5\" y=\"-340.3\">output:</text>\n",
       "<polyline fill=\"none\" points=\"273,-332.5 273,-378.5 \" stroke=\"black\"/>\n",
       "<text font-family=\"Times New Roman,serif\" font-size=\"14.00\" text-anchor=\"middle\" x=\"314.5\" y=\"-363.3\">(None, 256)</text>\n",
       "<polyline fill=\"none\" points=\"273,-355.5 356,-355.5 \" stroke=\"black\"/>\n",
       "<text font-family=\"Times New Roman,serif\" font-size=\"14.00\" text-anchor=\"middle\" x=\"314.5\" y=\"-340.3\">(None, 256)</text>\n",
       "</g>\n",
       "<!-- 1583481618616&#45;&gt;1583481746096 -->\n",
       "<g class=\"edge\" id=\"edge2\">\n",
       "<title>1583481618616-&gt;1583481746096</title>\n",
       "<path d=\"M220,-415.37C220,-407.15 220,-397.66 220,-388.73\" fill=\"none\" stroke=\"black\"/>\n",
       "<polygon fill=\"black\" points=\"223.5,-388.61 220,-378.61 216.5,-388.61 223.5,-388.61\" stroke=\"black\"/>\n",
       "</g>\n",
       "<!-- 1583641510912 -->\n",
       "<g class=\"node\" id=\"node5\">\n",
       "<title>1583641510912</title>\n",
       "<polygon fill=\"none\" points=\"100,-249.5 100,-295.5 340,-295.5 340,-249.5 100,-249.5\" stroke=\"black\"/>\n",
       "<text font-family=\"Times New Roman,serif\" font-size=\"14.00\" text-anchor=\"middle\" x=\"151\" y=\"-268.8\">dense_1: Dense</text>\n",
       "<polyline fill=\"none\" points=\"202,-249.5 202,-295.5 \" stroke=\"black\"/>\n",
       "<text font-family=\"Times New Roman,serif\" font-size=\"14.00\" text-anchor=\"middle\" x=\"229.5\" y=\"-280.3\">input:</text>\n",
       "<polyline fill=\"none\" points=\"202,-272.5 257,-272.5 \" stroke=\"black\"/>\n",
       "<text font-family=\"Times New Roman,serif\" font-size=\"14.00\" text-anchor=\"middle\" x=\"229.5\" y=\"-257.3\">output:</text>\n",
       "<polyline fill=\"none\" points=\"257,-249.5 257,-295.5 \" stroke=\"black\"/>\n",
       "<text font-family=\"Times New Roman,serif\" font-size=\"14.00\" text-anchor=\"middle\" x=\"298.5\" y=\"-280.3\">(None, 256)</text>\n",
       "<polyline fill=\"none\" points=\"257,-272.5 340,-272.5 \" stroke=\"black\"/>\n",
       "<text font-family=\"Times New Roman,serif\" font-size=\"14.00\" text-anchor=\"middle\" x=\"298.5\" y=\"-257.3\">(None, 100)</text>\n",
       "</g>\n",
       "<!-- 1583481746096&#45;&gt;1583641510912 -->\n",
       "<g class=\"edge\" id=\"edge3\">\n",
       "<title>1583481746096-&gt;1583641510912</title>\n",
       "<path d=\"M220,-332.37C220,-324.15 220,-314.66 220,-305.73\" fill=\"none\" stroke=\"black\"/>\n",
       "<polygon fill=\"black\" points=\"223.5,-305.61 220,-295.61 216.5,-305.61 223.5,-305.61\" stroke=\"black\"/>\n",
       "</g>\n",
       "<!-- 1583641621280 -->\n",
       "<g class=\"node\" id=\"node6\">\n",
       "<title>1583641621280</title>\n",
       "<polygon fill=\"none\" points=\"77.5,-166.5 77.5,-212.5 362.5,-212.5 362.5,-166.5 77.5,-166.5\" stroke=\"black\"/>\n",
       "<text font-family=\"Times New Roman,serif\" font-size=\"14.00\" text-anchor=\"middle\" x=\"151\" y=\"-185.8\">activation_1: Activation</text>\n",
       "<polyline fill=\"none\" points=\"224.5,-166.5 224.5,-212.5 \" stroke=\"black\"/>\n",
       "<text font-family=\"Times New Roman,serif\" font-size=\"14.00\" text-anchor=\"middle\" x=\"252\" y=\"-197.3\">input:</text>\n",
       "<polyline fill=\"none\" points=\"224.5,-189.5 279.5,-189.5 \" stroke=\"black\"/>\n",
       "<text font-family=\"Times New Roman,serif\" font-size=\"14.00\" text-anchor=\"middle\" x=\"252\" y=\"-174.3\">output:</text>\n",
       "<polyline fill=\"none\" points=\"279.5,-166.5 279.5,-212.5 \" stroke=\"black\"/>\n",
       "<text font-family=\"Times New Roman,serif\" font-size=\"14.00\" text-anchor=\"middle\" x=\"321\" y=\"-197.3\">(None, 100)</text>\n",
       "<polyline fill=\"none\" points=\"279.5,-189.5 362.5,-189.5 \" stroke=\"black\"/>\n",
       "<text font-family=\"Times New Roman,serif\" font-size=\"14.00\" text-anchor=\"middle\" x=\"321\" y=\"-174.3\">(None, 100)</text>\n",
       "</g>\n",
       "<!-- 1583641510912&#45;&gt;1583641621280 -->\n",
       "<g class=\"edge\" id=\"edge4\">\n",
       "<title>1583641510912-&gt;1583641621280</title>\n",
       "<path d=\"M220,-249.37C220,-241.15 220,-231.66 220,-222.73\" fill=\"none\" stroke=\"black\"/>\n",
       "<polygon fill=\"black\" points=\"223.5,-222.61 220,-212.61 216.5,-222.61 223.5,-222.61\" stroke=\"black\"/>\n",
       "</g>\n",
       "<!-- 1583641623968 -->\n",
       "<g class=\"node\" id=\"node7\">\n",
       "<title>1583641623968</title>\n",
       "<polygon fill=\"none\" points=\"100,-83.5 100,-129.5 340,-129.5 340,-83.5 100,-83.5\" stroke=\"black\"/>\n",
       "<text font-family=\"Times New Roman,serif\" font-size=\"14.00\" text-anchor=\"middle\" x=\"151\" y=\"-102.8\">dense_2: Dense</text>\n",
       "<polyline fill=\"none\" points=\"202,-83.5 202,-129.5 \" stroke=\"black\"/>\n",
       "<text font-family=\"Times New Roman,serif\" font-size=\"14.00\" text-anchor=\"middle\" x=\"229.5\" y=\"-114.3\">input:</text>\n",
       "<polyline fill=\"none\" points=\"202,-106.5 257,-106.5 \" stroke=\"black\"/>\n",
       "<text font-family=\"Times New Roman,serif\" font-size=\"14.00\" text-anchor=\"middle\" x=\"229.5\" y=\"-91.3\">output:</text>\n",
       "<polyline fill=\"none\" points=\"257,-83.5 257,-129.5 \" stroke=\"black\"/>\n",
       "<text font-family=\"Times New Roman,serif\" font-size=\"14.00\" text-anchor=\"middle\" x=\"298.5\" y=\"-114.3\">(None, 100)</text>\n",
       "<polyline fill=\"none\" points=\"257,-106.5 340,-106.5 \" stroke=\"black\"/>\n",
       "<text font-family=\"Times New Roman,serif\" font-size=\"14.00\" text-anchor=\"middle\" x=\"298.5\" y=\"-91.3\">(None, 10)</text>\n",
       "</g>\n",
       "<!-- 1583641621280&#45;&gt;1583641623968 -->\n",
       "<g class=\"edge\" id=\"edge5\">\n",
       "<title>1583641621280-&gt;1583641623968</title>\n",
       "<path d=\"M220,-166.37C220,-158.15 220,-148.66 220,-139.73\" fill=\"none\" stroke=\"black\"/>\n",
       "<polygon fill=\"black\" points=\"223.5,-139.61 220,-129.61 216.5,-139.61 223.5,-139.61\" stroke=\"black\"/>\n",
       "</g>\n",
       "<!-- 1583641737424 -->\n",
       "<g class=\"node\" id=\"node8\">\n",
       "<title>1583641737424</title>\n",
       "<polygon fill=\"none\" points=\"81,-0.5 81,-46.5 359,-46.5 359,-0.5 81,-0.5\" stroke=\"black\"/>\n",
       "<text font-family=\"Times New Roman,serif\" font-size=\"14.00\" text-anchor=\"middle\" x=\"154.5\" y=\"-19.8\">activation_2: Activation</text>\n",
       "<polyline fill=\"none\" points=\"228,-0.5 228,-46.5 \" stroke=\"black\"/>\n",
       "<text font-family=\"Times New Roman,serif\" font-size=\"14.00\" text-anchor=\"middle\" x=\"255.5\" y=\"-31.3\">input:</text>\n",
       "<polyline fill=\"none\" points=\"228,-23.5 283,-23.5 \" stroke=\"black\"/>\n",
       "<text font-family=\"Times New Roman,serif\" font-size=\"14.00\" text-anchor=\"middle\" x=\"255.5\" y=\"-8.3\">output:</text>\n",
       "<polyline fill=\"none\" points=\"283,-0.5 283,-46.5 \" stroke=\"black\"/>\n",
       "<text font-family=\"Times New Roman,serif\" font-size=\"14.00\" text-anchor=\"middle\" x=\"321\" y=\"-31.3\">(None, 10)</text>\n",
       "<polyline fill=\"none\" points=\"283,-23.5 359,-23.5 \" stroke=\"black\"/>\n",
       "<text font-family=\"Times New Roman,serif\" font-size=\"14.00\" text-anchor=\"middle\" x=\"321\" y=\"-8.3\">(None, 10)</text>\n",
       "</g>\n",
       "<!-- 1583641623968&#45;&gt;1583641737424 -->\n",
       "<g class=\"edge\" id=\"edge6\">\n",
       "<title>1583641623968-&gt;1583641737424</title>\n",
       "<path d=\"M220,-83.37C220,-75.15 220,-65.66 220,-56.73\" fill=\"none\" stroke=\"black\"/>\n",
       "<polygon fill=\"black\" points=\"223.5,-56.61 220,-46.61 216.5,-56.61 223.5,-56.61\" stroke=\"black\"/>\n",
       "</g>\n",
       "</g>\n",
       "</svg>"
      ],
      "text/plain": [
       "<IPython.core.display.SVG object>"
      ]
     },
     "execution_count": 6,
     "metadata": {},
     "output_type": "execute_result"
    }
   ],
   "source": [
    "from IPython.display import SVG\n",
    "from tensorflow.keras.utils import model_to_dot\n",
    "SVG(model_to_dot(model, show_shapes=True,dpi=None).create(prog='dot', format='svg'))"
   ]
  },
  {
   "cell_type": "code",
   "execution_count": null,
   "metadata": {},
   "outputs": [],
   "source": []
  }
 ],
 "metadata": {
  "kernelspec": {
   "display_name": "Python 3",
   "language": "python",
   "name": "python3"
  },
  "language_info": {
   "codemirror_mode": {
    "name": "ipython",
    "version": 3
   },
   "file_extension": ".py",
   "mimetype": "text/x-python",
   "name": "python",
   "nbconvert_exporter": "python",
   "pygments_lexer": "ipython3",
   "version": "3.6.13"
  }
 },
 "nbformat": 4,
 "nbformat_minor": 1
}
