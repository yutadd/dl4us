{
 "cells": [
  {
   "cell_type": "markdown",
   "metadata": {},
   "source": [
    "# Lesson2 畳み込みニューラルネットワーク (CNN)"
   ]
  },
  {
   "cell_type": "markdown",
   "metadata": {},
   "source": [
    "## 目次\n",
    "\n",
    "- Section1 解説\n",
    "  - 1.1 CNN基礎\n",
    "  - 1.2 Convolution(畳み込み)層\n",
    "  - 1.3 Pooling(プーリング)層\n",
    "  - 1.4 確認問題\n",
    "- Section2 実装①\n",
    "  - 2.1 Fasion MNISTをCNNでクラス分類\n",
    "  - 2.2 CIFAR10のデータをCNNでクラス分類\n",
    "- Section3 テクニック・発展内容\n",
    "  - 3.1 Data Augmentation\n",
    "  - 3.2 画像データの正規化\n",
    "  - 3.3 Batch Normalization\n",
    "  - 3.4 Skip Connection  (Residual Network)\n",
    "  - 3.5 学習済みネットワークの利用\n",
    "  - 3.6 学習させたモデルの保存・再利用\n",
    "  - 3.7 確認問題\n",
    "- Section4 実装②\n",
    "  - 4.1 CIFAR10のデータをCNNでクラス分類②\n",
    "- Section5 ケーススタディ"
   ]
  },
  {
   "cell_type": "markdown",
   "metadata": {},
   "source": [
    "## Section5: ケーススタディ"
   ]
  },
  {
   "cell_type": "markdown",
   "metadata": {},
   "source": [
    "今LessonではCNNを画像の分類問題で使用しましたが、単純な分類にかぎらず画像の特徴量を獲得する手法として幅広く使われています。活用例としては、画像からキャプションを生成する際の特徴抽出器 (Lesson 5でやります) として (下図1) や、ゲーム画像から攻略パターンを学習する際の特徴抽出器 (Lesson 7でやります) (下図2) などが挙げられます。\n",
    "\n",
    "- 図1: <img src=\"./figures/cnn_caption.png\" width=50%>\n",
    "参考文献: K. Xu et al. 2016. Show, Attend and Tell: Neural Image Caption Generation with Visual Attention. ICML2016\n",
    "\n",
    "- 図2: <img src=\"./figures/cnn_dqn.png\" width=50%>\n",
    "参考文献: V. Mnih et al. 2015. Human-level  control through deep reinforcement learning. Nature2015\n",
    "\n",
    "さらに画像にとどまらず、位置情報をもつ他種類のデータに対しても応用されています。たとえば自然言語においては、文字列を2次元の画像のように見立てて畳み込んで特徴を獲得することにより、文の分類問題において高い精度を記録しています。RNN (Lesson 3でやります) にくらべ並列化がしやすく、またプーリングのおかげで文中の位置にかかわらず特徴を獲得できるので、よく利用されています。\n",
    "\n",
    "<img src=\"./figures/cnn_sentence_classification.png\" width=50%>\n",
    "\n",
    "参考文献: Y. Zhang et al. 2015. A Sensitivity Analysis of (and Practitioners' Guide to) Convolutional Neural Networks for Sentence Classification. Arxiv"
   ]
  }
 ],
 "metadata": {
  "kernelspec": {
   "display_name": "Python 3",
   "language": "python",
   "name": "python3"
  },
  "language_info": {
   "codemirror_mode": {
    "name": "ipython",
    "version": 3
   },
   "file_extension": ".py",
   "mimetype": "text/x-python",
   "name": "python",
   "nbconvert_exporter": "python",
   "pygments_lexer": "ipython3",
   "version": "3.6.13"
  }
 },
 "nbformat": 4,
 "nbformat_minor": 2
}
